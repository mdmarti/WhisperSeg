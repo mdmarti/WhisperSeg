{
 "cells": [
  {
   "cell_type": "code",
   "execution_count": 1,
   "id": "54f812b8-1078-4e9a-93d8-113a435d53fc",
   "metadata": {},
   "outputs": [],
   "source": [
    "from model import WhisperSegmenterFast\n",
    "import librosa\n",
    "import json\n",
    "from audio_utils import SpecViewer"
   ]
  },
  {
   "cell_type": "code",
   "execution_count": 2,
   "id": "916a156f-1006-4d54-a7dc-19328b5d6d02",
   "metadata": {},
   "outputs": [
    {
     "name": "stderr",
     "output_type": "stream",
     "text": [
      "Special tokens have been added in the vocabulary, make sure the associated word embeddings are fine-tuned or trained.\n"
     ]
    }
   ],
   "source": [
    "segmenter = WhisperSegmenterFast(\"nccratliri/whisperseg-large-ms-ct2\",device=\"cuda\")"
   ]
  },
  {
   "cell_type": "code",
   "execution_count": 3,
   "id": "6a9a0193-7230-42e2-a77c-041a46256feb",
   "metadata": {},
   "outputs": [],
   "source": [
    "sr=44100\n",
    "min_frequency=0\n",
    "spec_time_step=200/sr\n",
    "min_segment_length=0.005\n",
    "eps=0.02\n",
    "num_trials=3"
   ]
  },
  {
   "cell_type": "code",
   "execution_count": null,
   "id": "3c9e5926-a7a9-4295-ba44-3caec60a33a9",
   "metadata": {},
   "outputs": [],
   "source": [
    "\n",
    "### SpecViewer is a customized class for interactive spectrogram viewing\n",
    "spec_viewer = SpecViewer()\n",
    "\n",
    "audio, _ = librosa.load( \"/home/miles/mooney_server/Miles/fromComputer/birds_jq/CaMKIIbirds/grn573/data/20220626/denoised/recording_20220626_114316nrd.wav\", \n",
    "                         sr = sr )"
   ]
  },
  {
   "cell_type": "code",
   "execution_count": null,
   "id": "069b8fac-8b0b-436b-9cbd-82084613183c",
   "metadata": {},
   "outputs": [
    {
     "name": "stdout",
     "output_type": "stream",
     "text": [
      "{'onset': [9.204, 9.354, 9.481, 33.127, 33.264, 33.412, 33.663, 44.187, 44.308], 'offset': [9.308, 9.463, 9.644, 33.231, 33.376, 33.596, 33.965, 44.278, 44.886], 'cluster': ['bengalese_finch_0', 'bengalese_finch_0', 'bengalese_finch_0', 'human_SPEECH', 'human_SPEECH', 'human_SPEECH', 'human_SPEECH', 'zebra_finch_0', 'zebra_finch_0']}\n"
     ]
    }
   ],
   "source": [
    "prediction = segmenter.segment(  audio, sr = sr, min_frequency = min_frequency, spec_time_step = spec_time_step,\n",
    "                       min_segment_length = min_segment_length, eps = eps,num_trials = num_trials )\n",
    "print(prediction)"
   ]
  },
  {
   "cell_type": "code",
   "execution_count": 4,
   "id": "ee352b1d",
   "metadata": {},
   "outputs": [
    {
     "name": "stdout",
     "output_type": "stream",
     "text": [
      "Now segmenting: blk521\n"
     ]
    },
    {
     "name": "stderr",
     "output_type": "stream",
     "text": [
      "segmenting days of data: 100%|██████████| 27/27 [1:41:45<00:00, 226.13s/it]\n"
     ]
    }
   ],
   "source": [
    "import glob\n",
    "import pandas as pd\n",
    "from tqdm import tqdm\n",
    "\n",
    "paths = ['/home/miles/mooney_server/Miles/fromComputer/birds_jq/CAGbirds/blk521/data/']#['/home/miles/mooney_server/Miles/fromComputer/birds_jq/CAGbirds/org512/data/','/home/miles/mooney_server/Miles/fromComputer/birds_jq/CAGbirds/blk521/data/'\\\n",
    "        # '/home/miles/mooney_server/Miles/fromComputer/birds_jq/CaMKIIbirds/grn573/data/','/home/miles/mooney_server/Miles/fromComputer/birds_jq/CaMKIIbirds/blk603/data/'] \n",
    "#path='/home/miles/mooney_server/Miles/FromComputer/birds_jq/CAGbirds/org545/data/'\n",
    "\n",
    "for path in paths:\n",
    "    print(f\"Now segmenting: {path.split('/')[-3]}\")\n",
    "    days = glob.glob(path + '[0-9]*/')\n",
    "    days = [d + 'denoised/' for d in days]\n",
    "\n",
    "    for d in tqdm(days,desc = 'segmenting days of data'):\n",
    "        all_songs = glob.glob(d + '*.wav')\n",
    "\n",
    "        daySegTable = pd.DataFrame()\n",
    "\n",
    "        for ii, song in enumerate(all_songs):\n",
    "\n",
    "            # load audio\n",
    "            audio, _ = librosa.load(song, sr = sr )\n",
    "            prediction = segmenter.segment(audio, \n",
    "                                        sr = sr,\n",
    "                                        min_frequency = min_frequency, \n",
    "                                        spec_time_step = spec_time_step,\n",
    "                                        min_segment_length = min_segment_length, \n",
    "                                        eps = eps, \n",
    "                                        num_trials = num_trials)\n",
    "            curr_prediction_df = pd.DataFrame(prediction)\n",
    "\n",
    "            #add file name to dataframe\n",
    "            song_name = song.split(\"/\")[-1]\n",
    "            curr_prediction_df['file'] = song_name\n",
    "\n",
    "            daySegTable = pd.concat([daySegTable,curr_prediction_df])\n",
    "\n",
    "        daySegTable.to_csv(d + \"segments_wseg.csv\")"
   ]
  },
  {
   "cell_type": "code",
   "execution_count": null,
   "id": "80fa51c0",
   "metadata": {},
   "outputs": [
    {
     "name": "stdout",
     "output_type": "stream",
     "text": [
      "Warning: spec_time_step * sr must be an integer. Consider changing the sampling rate sr.\n"
     ]
    },
    {
     "data": {
      "application/vnd.jupyter.widget-view+json": {
       "model_id": "81288e6ff0fc4fa6b4474ab2d19a6190",
       "version_major": 2,
       "version_minor": 0
      },
      "text/plain": [
       "interactive(children=(FloatSlider(value=26.400000000000002, description='offset', max=53.001224489795916, step…"
      ]
     },
     "metadata": {},
     "output_type": "display_data"
    },
    {
     "data": {
      "text/plain": [
       "<function ipywidgets.widgets.interaction._InteractFactory.__call__.<locals>.<lambda>(*args, **kwargs)>"
      ]
     },
     "execution_count": 29,
     "metadata": {},
     "output_type": "execute_result"
    }
   ],
   "source": [
    "spec_viewer.visualize( audio = audio, sr = sr, min_frequency= min_frequency, prediction = prediction,\n",
    "                       window_size=8, precision_bits=1 \n",
    "                     )"
   ]
  },
  {
   "cell_type": "code",
   "execution_count": null,
   "id": "74c17926",
   "metadata": {},
   "outputs": [],
   "source": []
  }
 ],
 "metadata": {
  "kernelspec": {
   "display_name": "wseg",
   "language": "python",
   "name": "python3"
  },
  "language_info": {
   "codemirror_mode": {
    "name": "ipython",
    "version": 3
   },
   "file_extension": ".py",
   "mimetype": "text/x-python",
   "name": "python",
   "nbconvert_exporter": "python",
   "pygments_lexer": "ipython3",
   "version": "3.10.14"
  }
 },
 "nbformat": 4,
 "nbformat_minor": 5
}
